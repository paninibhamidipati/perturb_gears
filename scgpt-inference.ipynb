{
 "cells": [
  {
   "cell_type": "code",
   "execution_count": 9,
   "id": "46990b91",
   "metadata": {},
   "outputs": [
    {
     "name": "stdout",
     "output_type": "stream",
     "text": [
      "Requirement already satisfied: anndata in c:\\users\\panini bhamidipati\\miniconda3\\envs\\torch\\lib\\site-packages (0.8.0)\n",
      "Requirement already satisfied: pandas>=1.1.1 in c:\\users\\panini bhamidipati\\miniconda3\\envs\\torch\\lib\\site-packages (from anndata) (1.3.4)\n",
      "Requirement already satisfied: numpy>=1.16.5 in c:\\users\\panini bhamidipati\\miniconda3\\envs\\torch\\lib\\site-packages (from anndata) (1.21.5)\n",
      "Requirement already satisfied: scipy>1.4 in c:\\users\\panini bhamidipati\\miniconda3\\envs\\torch\\lib\\site-packages (from anndata) (1.7.3)\n",
      "Requirement already satisfied: h5py>=3 in c:\\users\\panini bhamidipati\\miniconda3\\envs\\torch\\lib\\site-packages (from anndata) (3.6.0)\n",
      "Requirement already satisfied: natsort in c:\\users\\panini bhamidipati\\miniconda3\\envs\\torch\\lib\\site-packages (from anndata) (8.4.0)\n",
      "Requirement already satisfied: packaging>=20 in c:\\users\\panini bhamidipati\\miniconda3\\envs\\torch\\lib\\site-packages (from anndata) (21.3)\n",
      "Requirement already satisfied: importlib_metadata>=0.7 in c:\\users\\panini bhamidipati\\miniconda3\\envs\\torch\\lib\\site-packages (from anndata) (4.11.1)\n",
      "Requirement already satisfied: typing_extensions in c:\\users\\panini bhamidipati\\miniconda3\\envs\\torch\\lib\\site-packages (from anndata) (4.1.1)\n",
      "Requirement already satisfied: cached-property in c:\\users\\panini bhamidipati\\miniconda3\\envs\\torch\\lib\\site-packages (from h5py>=3->anndata) (1.5.2)\n",
      "Requirement already satisfied: zipp>=0.5 in c:\\users\\panini bhamidipati\\miniconda3\\envs\\torch\\lib\\site-packages (from importlib_metadata>=0.7->anndata) (3.7.0)\n",
      "Requirement already satisfied: pyparsing!=3.0.5,>=2.0.2 in c:\\users\\panini bhamidipati\\miniconda3\\envs\\torch\\lib\\site-packages (from packaging>=20->anndata) (3.0.4)\n",
      "Requirement already satisfied: python-dateutil>=2.7.3 in c:\\users\\panini bhamidipati\\miniconda3\\envs\\torch\\lib\\site-packages (from pandas>=1.1.1->anndata) (2.8.2)\n",
      "Requirement already satisfied: pytz>=2017.3 in c:\\users\\panini bhamidipati\\miniconda3\\envs\\torch\\lib\\site-packages (from pandas>=1.1.1->anndata) (2021.3)\n",
      "Requirement already satisfied: six>=1.5 in c:\\users\\panini bhamidipati\\miniconda3\\envs\\torch\\lib\\site-packages (from python-dateutil>=2.7.3->pandas>=1.1.1->anndata) (1.16.0)\n"
     ]
    },
    {
     "name": "stderr",
     "output_type": "stream",
     "text": [
      "\n",
      "[notice] A new release of pip is available: 23.1.2 -> 23.2.1\n",
      "[notice] To update, run: python.exe -m pip install --upgrade pip\n"
     ]
    },
    {
     "name": "stdout",
     "output_type": "stream",
     "text": [
      "Requirement already satisfied: scanpy in c:\\users\\panini bhamidipati\\miniconda3\\envs\\torch\\lib\\site-packages (1.9.3)\n",
      "Requirement already satisfied: anndata>=0.7.4 in c:\\users\\panini bhamidipati\\miniconda3\\envs\\torch\\lib\\site-packages (from scanpy) (0.8.0)\n",
      "Requirement already satisfied: numpy>=1.17.0 in c:\\users\\panini bhamidipati\\miniconda3\\envs\\torch\\lib\\site-packages (from scanpy) (1.21.5)\n",
      "Requirement already satisfied: matplotlib>=3.4 in c:\\users\\panini bhamidipati\\miniconda3\\envs\\torch\\lib\\site-packages (from scanpy) (3.5.0)\n",
      "Requirement already satisfied: pandas>=1.0 in c:\\users\\panini bhamidipati\\miniconda3\\envs\\torch\\lib\\site-packages (from scanpy) (1.3.4)\n",
      "Requirement already satisfied: scipy>=1.4 in c:\\users\\panini bhamidipati\\miniconda3\\envs\\torch\\lib\\site-packages (from scanpy) (1.7.3)\n",
      "Requirement already satisfied: seaborn in c:\\users\\panini bhamidipati\\miniconda3\\envs\\torch\\lib\\site-packages (from scanpy) (0.12.1)\n",
      "Requirement already satisfied: h5py>=3 in c:\\users\\panini bhamidipati\\miniconda3\\envs\\torch\\lib\\site-packages (from scanpy) (3.6.0)\n",
      "Requirement already satisfied: tqdm in c:\\users\\panini bhamidipati\\appdata\\roaming\\python\\python37\\site-packages (from scanpy) (4.64.1)\n",
      "Requirement already satisfied: scikit-learn>=0.22 in c:\\users\\panini bhamidipati\\miniconda3\\envs\\torch\\lib\\site-packages (from scanpy) (1.0.2)\n",
      "Requirement already satisfied: statsmodels>=0.10.0rc2 in c:\\users\\panini bhamidipati\\miniconda3\\envs\\torch\\lib\\site-packages (from scanpy) (0.13.5)\n",
      "Requirement already satisfied: patsy in c:\\users\\panini bhamidipati\\miniconda3\\envs\\torch\\lib\\site-packages (from scanpy) (0.5.3)\n",
      "Requirement already satisfied: networkx>=2.3 in c:\\users\\panini bhamidipati\\appdata\\roaming\\python\\python37\\site-packages (from scanpy) (2.6.3)\n",
      "Requirement already satisfied: natsort in c:\\users\\panini bhamidipati\\miniconda3\\envs\\torch\\lib\\site-packages (from scanpy) (8.4.0)\n",
      "Requirement already satisfied: joblib in c:\\users\\panini bhamidipati\\miniconda3\\envs\\torch\\lib\\site-packages (from scanpy) (1.1.0)\n",
      "Requirement already satisfied: numba>=0.41.0 in c:\\users\\panini bhamidipati\\miniconda3\\envs\\torch\\lib\\site-packages (from scanpy) (0.56.4)\n",
      "Requirement already satisfied: umap-learn>=0.3.10 in c:\\users\\panini bhamidipati\\miniconda3\\envs\\torch\\lib\\site-packages (from scanpy) (0.5.3)\n",
      "Requirement already satisfied: packaging in c:\\users\\panini bhamidipati\\miniconda3\\envs\\torch\\lib\\site-packages (from scanpy) (21.3)\n",
      "Requirement already satisfied: session-info in c:\\users\\panini bhamidipati\\miniconda3\\envs\\torch\\lib\\site-packages (from scanpy) (1.0.0)\n",
      "Requirement already satisfied: importlib_metadata>=0.7 in c:\\users\\panini bhamidipati\\miniconda3\\envs\\torch\\lib\\site-packages (from scanpy) (4.11.1)\n",
      "Requirement already satisfied: typing_extensions in c:\\users\\panini bhamidipati\\miniconda3\\envs\\torch\\lib\\site-packages (from anndata>=0.7.4->scanpy) (4.1.1)\n",
      "Requirement already satisfied: cached-property in c:\\users\\panini bhamidipati\\miniconda3\\envs\\torch\\lib\\site-packages (from h5py>=3->scanpy) (1.5.2)\n",
      "Requirement already satisfied: zipp>=0.5 in c:\\users\\panini bhamidipati\\miniconda3\\envs\\torch\\lib\\site-packages (from importlib_metadata>=0.7->scanpy) (3.7.0)\n",
      "Requirement already satisfied: cycler>=0.10 in c:\\users\\panini bhamidipati\\miniconda3\\envs\\torch\\lib\\site-packages (from matplotlib>=3.4->scanpy) (0.11.0)\n",
      "Requirement already satisfied: fonttools>=4.22.0 in c:\\users\\panini bhamidipati\\miniconda3\\envs\\torch\\lib\\site-packages (from matplotlib>=3.4->scanpy) (4.25.0)\n",
      "Requirement already satisfied: kiwisolver>=1.0.1 in c:\\users\\panini bhamidipati\\miniconda3\\envs\\torch\\lib\\site-packages (from matplotlib>=3.4->scanpy) (1.3.2)\n",
      "Requirement already satisfied: pillow>=6.2.0 in c:\\users\\panini bhamidipati\\miniconda3\\envs\\torch\\lib\\site-packages (from matplotlib>=3.4->scanpy) (8.4.0)\n",
      "Requirement already satisfied: pyparsing>=2.2.1 in c:\\users\\panini bhamidipati\\miniconda3\\envs\\torch\\lib\\site-packages (from matplotlib>=3.4->scanpy) (3.0.4)\n",
      "Requirement already satisfied: python-dateutil>=2.7 in c:\\users\\panini bhamidipati\\miniconda3\\envs\\torch\\lib\\site-packages (from matplotlib>=3.4->scanpy) (2.8.2)\n",
      "Requirement already satisfied: llvmlite<0.40,>=0.39.0dev0 in c:\\users\\panini bhamidipati\\miniconda3\\envs\\torch\\lib\\site-packages (from numba>=0.41.0->scanpy) (0.39.1)\n",
      "Requirement already satisfied: setuptools in c:\\users\\panini bhamidipati\\miniconda3\\envs\\torch\\lib\\site-packages (from numba>=0.41.0->scanpy) (59.5.0)\n",
      "Requirement already satisfied: pytz>=2017.3 in c:\\users\\panini bhamidipati\\miniconda3\\envs\\torch\\lib\\site-packages (from pandas>=1.0->scanpy) (2021.3)\n",
      "Requirement already satisfied: threadpoolctl>=2.0.0 in c:\\users\\panini bhamidipati\\miniconda3\\envs\\torch\\lib\\site-packages (from scikit-learn>=0.22->scanpy) (2.2.0)\n",
      "Requirement already satisfied: six in c:\\users\\panini bhamidipati\\miniconda3\\envs\\torch\\lib\\site-packages (from patsy->scanpy) (1.16.0)\n",
      "Requirement already satisfied: pynndescent>=0.5 in c:\\users\\panini bhamidipati\\miniconda3\\envs\\torch\\lib\\site-packages (from umap-learn>=0.3.10->scanpy) (0.5.10)\n",
      "Requirement already satisfied: stdlib-list in c:\\users\\panini bhamidipati\\miniconda3\\envs\\torch\\lib\\site-packages (from session-info->scanpy) (0.9.0)\n",
      "Requirement already satisfied: colorama in c:\\users\\panini bhamidipati\\miniconda3\\envs\\torch\\lib\\site-packages (from tqdm->scanpy) (0.4.4)"
     ]
    },
    {
     "name": "stderr",
     "output_type": "stream",
     "text": [
      "\n",
      "[notice] A new release of pip is available: 23.1.2 -> 23.2.1\n",
      "[notice] To update, run: python.exe -m pip install --upgrade pip\n"
     ]
    },
    {
     "name": "stdout",
     "output_type": "stream",
     "text": [
      "\n",
      "Requirement already satisfied: gseapy in c:\\users\\panini bhamidipati\\miniconda3\\envs\\torch\\lib\\site-packages (1.0.5)"
     ]
    },
    {
     "name": "stderr",
     "output_type": "stream",
     "text": [
      "\n",
      "[notice] A new release of pip is available: 23.1.2 -> 23.2.1\n",
      "[notice] To update, run: python.exe -m pip install --upgrade pip\n"
     ]
    },
    {
     "name": "stdout",
     "output_type": "stream",
     "text": [
      "\n",
      "Requirement already satisfied: numpy>=1.13.0 in c:\\users\\panini bhamidipati\\miniconda3\\envs\\torch\\lib\\site-packages (from gseapy) (1.21.5)\n",
      "Requirement already satisfied: scipy in c:\\users\\panini bhamidipati\\miniconda3\\envs\\torch\\lib\\site-packages (from gseapy) (1.7.3)\n",
      "Requirement already satisfied: pandas in c:\\users\\panini bhamidipati\\miniconda3\\envs\\torch\\lib\\site-packages (from gseapy) (1.3.4)\n",
      "Requirement already satisfied: matplotlib>=2.2 in c:\\users\\panini bhamidipati\\miniconda3\\envs\\torch\\lib\\site-packages (from gseapy) (3.5.0)\n",
      "Requirement already satisfied: requests in c:\\users\\panini bhamidipati\\miniconda3\\envs\\torch\\lib\\site-packages (from gseapy) (2.27.1)\n",
      "Requirement already satisfied: cycler>=0.10 in c:\\users\\panini bhamidipati\\miniconda3\\envs\\torch\\lib\\site-packages (from matplotlib>=2.2->gseapy) (0.11.0)\n",
      "Requirement already satisfied: fonttools>=4.22.0 in c:\\users\\panini bhamidipati\\miniconda3\\envs\\torch\\lib\\site-packages (from matplotlib>=2.2->gseapy) (4.25.0)\n",
      "Requirement already satisfied: kiwisolver>=1.0.1 in c:\\users\\panini bhamidipati\\miniconda3\\envs\\torch\\lib\\site-packages (from matplotlib>=2.2->gseapy) (1.3.2)\n",
      "Requirement already satisfied: packaging>=20.0 in c:\\users\\panini bhamidipati\\miniconda3\\envs\\torch\\lib\\site-packages (from matplotlib>=2.2->gseapy) (21.3)\n",
      "Requirement already satisfied: pillow>=6.2.0 in c:\\users\\panini bhamidipati\\miniconda3\\envs\\torch\\lib\\site-packages (from matplotlib>=2.2->gseapy) (8.4.0)\n",
      "Requirement already satisfied: pyparsing>=2.2.1 in c:\\users\\panini bhamidipati\\miniconda3\\envs\\torch\\lib\\site-packages (from matplotlib>=2.2->gseapy) (3.0.4)\n",
      "Requirement already satisfied: python-dateutil>=2.7 in c:\\users\\panini bhamidipati\\miniconda3\\envs\\torch\\lib\\site-packages (from matplotlib>=2.2->gseapy) (2.8.2)\n",
      "Requirement already satisfied: pytz>=2017.3 in c:\\users\\panini bhamidipati\\miniconda3\\envs\\torch\\lib\\site-packages (from pandas->gseapy) (2021.3)\n",
      "Requirement already satisfied: urllib3<1.27,>=1.21.1 in c:\\users\\panini bhamidipati\\miniconda3\\envs\\torch\\lib\\site-packages (from requests->gseapy) (1.26.8)\n",
      "Requirement already satisfied: certifi>=2017.4.17 in c:\\users\\panini bhamidipati\\miniconda3\\envs\\torch\\lib\\site-packages (from requests->gseapy) (2022.12.7)\n",
      "Requirement already satisfied: charset-normalizer~=2.0.0 in c:\\users\\panini bhamidipati\\miniconda3\\envs\\torch\\lib\\site-packages (from requests->gseapy) (2.0.4)\n",
      "Requirement already satisfied: idna<4,>=2.5 in c:\\users\\panini bhamidipati\\miniconda3\\envs\\torch\\lib\\site-packages (from requests->gseapy) (3.3)\n",
      "Requirement already satisfied: six>=1.5 in c:\\users\\panini bhamidipati\\miniconda3\\envs\\torch\\lib\\site-packages (from python-dateutil>=2.7->matplotlib>=2.2->gseapy) (1.16.0)\n",
      "Collecting torchtext\n",
      "  Downloading torchtext-0.14.1-cp37-cp37m-win_amd64.whl (1.9 MB)\n",
      "     ---------------------------------------- 1.9/1.9 MB 7.9 MB/s eta 0:00:00\n",
      "Requirement already satisfied: tqdm in c:\\users\\panini bhamidipati\\appdata\\roaming\\python\\python37\\site-packages (from torchtext) (4.64.1)\n",
      "Requirement already satisfied: requests in c:\\users\\panini bhamidipati\\miniconda3\\envs\\torch\\lib\\site-packages (from torchtext) (2.27.1)\n",
      "Collecting torch==1.13.1 (from torchtext)\n",
      "  Downloading torch-1.13.1-cp37-cp37m-win_amd64.whl (162.6 MB)\n",
      "     -------------------------------------- 162.6/162.6 MB 6.3 MB/s eta 0:00:00\n",
      "Requirement already satisfied: numpy in c:\\users\\panini bhamidipati\\miniconda3\\envs\\torch\\lib\\site-packages (from torchtext) (1.21.5)\n",
      "Requirement already satisfied: typing-extensions in c:\\users\\panini bhamidipati\\miniconda3\\envs\\torch\\lib\\site-packages (from torch==1.13.1->torchtext) (4.1.1)\n",
      "Requirement already satisfied: urllib3<1.27,>=1.21.1 in c:\\users\\panini bhamidipati\\miniconda3\\envs\\torch\\lib\\site-packages (from requests->torchtext) (1.26.8)\n",
      "Requirement already satisfied: certifi>=2017.4.17 in c:\\users\\panini bhamidipati\\miniconda3\\envs\\torch\\lib\\site-packages (from requests->torchtext) (2022.12.7)\n",
      "Requirement already satisfied: charset-normalizer~=2.0.0 in c:\\users\\panini bhamidipati\\miniconda3\\envs\\torch\\lib\\site-packages (from requests->torchtext) (2.0.4)\n",
      "Requirement already satisfied: idna<4,>=2.5 in c:\\users\\panini bhamidipati\\miniconda3\\envs\\torch\\lib\\site-packages (from requests->torchtext) (3.3)\n",
      "Requirement already satisfied: colorama in c:\\users\\panini bhamidipati\\miniconda3\\envs\\torch\\lib\\site-packages (from tqdm->torchtext) (0.4.4)\n",
      "Installing collected packages: torch, torchtext\n",
      "  Attempting uninstall: torch\n",
      "    Found existing installation: torch 1.10.2\n",
      "    Uninstalling torch-1.10.2:\n",
      "      Successfully uninstalled torch-1.10.2\n",
      "Successfully installed torch-1.13.1 torchtext-0.14.1\n"
     ]
    },
    {
     "name": "stderr",
     "output_type": "stream",
     "text": [
      "ERROR: pip's dependency resolver does not currently take into account all the packages that are installed. This behaviour is the source of the following dependency conflicts.\n",
      "torchvision 0.11.3 requires torch==1.10.2, but you have torch 1.13.1 which is incompatible.\n",
      "\n",
      "[notice] A new release of pip is available: 23.1.2 -> 23.2.1\n",
      "[notice] To update, run: python.exe -m pip install --upgrade pip\n"
     ]
    }
   ],
   "source": [
    "!pip install anndata\n",
    "!pip install scanpy\n",
    "!pip install gseapy\n",
    "!pip install torchtext"
   ]
  },
  {
   "cell_type": "code",
   "execution_count": 14,
   "id": "8ff48b2b",
   "metadata": {},
   "outputs": [],
   "source": [
    "# Specify data path; here we load the Immune Human dataset\n",
    "import copy\n",
    "import json\n",
    "import os\n",
    "from pathlib import Path\n",
    "import sys\n",
    "import warnings\n",
    "\n",
    "import torch\n",
    "from anndata import AnnData\n",
    "import scanpy as sc\n",
    "import numpy as np\n",
    "import matplotlib.pyplot as plt\n",
    "import seaborn as sns\n",
    "import networkx as nx\n",
    "import pandas as pd\n",
    "import tqdm\n",
    "import gseapy as gp\n",
    "\n",
    "# from torchtext.vocab import Vocab\n",
    "# from torchtext._torchtext import (\n",
    "#     Vocab as VocabPybind,\n",
    "# )\n",
    "\n",
    "\n",
    "adata = sc.read(\n",
    "    str(\"Immune_ALL_human.h5ad\"), cache=True\n",
    ")  # 33506 × 12303\n",
    "ori_batch_col = \"batch\"\n",
    "adata.obs[\"celltype\"] = adata.obs[\"final_annotation\"].astype(str)\n",
    "data_is_raw = False"
   ]
  },
  {
   "cell_type": "code",
   "execution_count": 15,
   "id": "45a38459",
   "metadata": {},
   "outputs": [
    {
     "data": {
      "text/plain": [
       "AnnData object with n_obs × n_vars = 33506 × 12303\n",
       "    obs: 'batch', 'chemistry', 'data_type', 'dpt_pseudotime', 'final_annotation', 'mt_frac', 'n_counts', 'n_genes', 'sample_ID', 'size_factors', 'species', 'study', 'tissue', 'celltype'\n",
       "    layers: 'counts'"
      ]
     },
     "execution_count": 15,
     "metadata": {},
     "output_type": "execute_result"
    }
   ],
   "source": [
    "adata"
   ]
  },
  {
   "cell_type": "code",
   "execution_count": null,
   "id": "01ffd811",
   "metadata": {},
   "outputs": [],
   "source": []
  }
 ],
 "metadata": {
  "kernelspec": {
   "display_name": "Python 3.7 (Pytorch)",
   "language": "python",
   "name": "pytorch"
  },
  "language_info": {
   "codemirror_mode": {
    "name": "ipython",
    "version": 3
   },
   "file_extension": ".py",
   "mimetype": "text/x-python",
   "name": "python",
   "nbconvert_exporter": "python",
   "pygments_lexer": "ipython3",
   "version": "3.7.11"
  }
 },
 "nbformat": 4,
 "nbformat_minor": 5
}
