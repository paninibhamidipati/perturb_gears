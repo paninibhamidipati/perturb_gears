{
 "cells": [
  {
   "cell_type": "markdown",
   "metadata": {},
   "source": [
    "## (1) Load Processed Data in the Paper\n",
    "\n",
    "Currently, we support norman / adamson / dixit."
   ]
  },
  {
   "cell_type": "code",
   "execution_count": 1,
   "metadata": {},
   "outputs": [
    {
     "name": "stderr",
     "output_type": "stream",
     "text": [
      "Downloading...\n",
      "100%|█████████████████████████████████████| 9.46M/9.46M [00:01<00:00, 8.04MiB/s]\n",
      "Downloading...\n",
      "100%|███████████████████████████████████████| 559k/559k [00:00<00:00, 1.54MiB/s]\n",
      "Downloading...\n",
      "100%|███████████████████████████████████████| 169M/169M [00:35<00:00, 4.75MiB/s]\n",
      "Extracting zip file...\n",
      "Done!\n",
      "These perturbations are not in the GO graph and their perturbation can thus not be predicted\n",
      "['RHOXF2BB+ctrl' 'LYL1+IER5L' 'ctrl+IER5L' 'KIAA1804+ctrl' 'IER5L+ctrl'\n",
      " 'RHOXF2BB+ZBTB25' 'RHOXF2BB+SET']\n",
      "Creating pyg object for each cell in the data...\n",
      "100%|█████████████████████████████████████████| 277/277 [04:15<00:00,  1.08it/s]\n",
      "Saving new dataset pyg object at ./data/norman/data_pyg/cell_graphs.pkl\n",
      "Done!\n",
      "Creating new splits....\n",
      "Saving new splits at ./data/norman/splits/norman_simulation_1_0.75.pkl\n",
      "Simulation split test composition:\n",
      "combo_seen0:9\n",
      "combo_seen1:43\n",
      "combo_seen2:19\n",
      "unseen_single:36\n",
      "Done!\n",
      "Creating dataloaders....\n",
      "Done!\n"
     ]
    }
   ],
   "source": [
    "import sys\n",
    "sys.path.append('../')\n",
    "\n",
    "from gears import PertData\n",
    "\n",
    "pert_data = PertData('./data') # specific saved folder\n",
    "pert_data.load(data_name = 'norman') # specific dataset name\n",
    "pert_data.prepare_split(split = 'simulation', seed = 1) # get data split with seed\n",
    "pert_data.get_dataloader(batch_size = 32, test_batch_size = 128) # prepare data loader"
   ]
  },
  {
   "cell_type": "markdown",
   "metadata": {},
   "source": [
    "## (2) Create your own Perturb-Seq data\n",
    "Prepare a scanpy adata object with \n",
    "1. `adata.obs` dataframe has `condition` and `cell_type` columns, where `condition` is the perturbation name for each cell. Control cells have condition format of `ctrl`, single perturbation has condition format of `A+ctrl` or `ctrl+A`, combination perturbation has condition format of `A+B`.\n",
    "2. `adata.var` dataframe has `gene_name` column, where each gene name is the gene symbol.\n",
    "3. `adata.X` stores the post-perturbed gene expression. \n",
    "\n",
    "Here an example using dixit 2016 dataset."
   ]
  },
  {
   "cell_type": "code",
   "execution_count": 2,
   "metadata": {},
   "outputs": [
    {
     "data": {
      "text/plain": [
       "AnnData object with n_obs × n_vars = 44735 × 5012\n",
       "    obs: 'condition', 'cell_type'\n",
       "    var: 'gene_name'"
      ]
     },
     "execution_count": 2,
     "metadata": {},
     "output_type": "execute_result"
    }
   ],
   "source": [
    "import scanpy as sc\n",
    "adata = sc.read_h5ad('sample_adata.h5ad')\n",
    "adata"
   ]
  },
  {
   "cell_type": "code",
   "execution_count": 3,
   "metadata": {},
   "outputs": [
    {
     "data": {
      "text/html": [
       "<div>\n",
       "<style scoped>\n",
       "    .dataframe tbody tr th:only-of-type {\n",
       "        vertical-align: middle;\n",
       "    }\n",
       "\n",
       "    .dataframe tbody tr th {\n",
       "        vertical-align: top;\n",
       "    }\n",
       "\n",
       "    .dataframe thead th {\n",
       "        text-align: right;\n",
       "    }\n",
       "</style>\n",
       "<table border=\"1\" class=\"dataframe\">\n",
       "  <thead>\n",
       "    <tr style=\"text-align: right;\">\n",
       "      <th></th>\n",
       "      <th>gene_name</th>\n",
       "    </tr>\n",
       "  </thead>\n",
       "  <tbody>\n",
       "    <tr>\n",
       "      <th>2</th>\n",
       "      <td>A1BG-AS1</td>\n",
       "    </tr>\n",
       "    <tr>\n",
       "      <th>7</th>\n",
       "      <td>AAK1</td>\n",
       "    </tr>\n",
       "  </tbody>\n",
       "</table>\n",
       "</div>"
      ],
      "text/plain": [
       "  gene_name\n",
       "2  A1BG-AS1\n",
       "7      AAK1"
      ]
     },
     "execution_count": 3,
     "metadata": {},
     "output_type": "execute_result"
    }
   ],
   "source": [
    "adata.var.head(2)"
   ]
  },
  {
   "cell_type": "code",
   "execution_count": 4,
   "metadata": {},
   "outputs": [
    {
     "data": {
      "text/html": [
       "<div>\n",
       "<style scoped>\n",
       "    .dataframe tbody tr th:only-of-type {\n",
       "        vertical-align: middle;\n",
       "    }\n",
       "\n",
       "    .dataframe tbody tr th {\n",
       "        vertical-align: top;\n",
       "    }\n",
       "\n",
       "    .dataframe thead th {\n",
       "        text-align: right;\n",
       "    }\n",
       "</style>\n",
       "<table border=\"1\" class=\"dataframe\">\n",
       "  <thead>\n",
       "    <tr style=\"text-align: right;\">\n",
       "      <th></th>\n",
       "      <th>condition</th>\n",
       "      <th>cell_type</th>\n",
       "    </tr>\n",
       "  </thead>\n",
       "  <tbody>\n",
       "    <tr>\n",
       "      <th>TAACATGAAAAGTG_p7d_F3</th>\n",
       "      <td>CREB1+ctrl</td>\n",
       "      <td>K562</td>\n",
       "    </tr>\n",
       "    <tr>\n",
       "      <th>CTATCCCTTGTGCA_p7d_G3</th>\n",
       "      <td>GABPA+ctrl</td>\n",
       "      <td>K562</td>\n",
       "    </tr>\n",
       "  </tbody>\n",
       "</table>\n",
       "</div>"
      ],
      "text/plain": [
       "                        condition cell_type\n",
       "TAACATGAAAAGTG_p7d_F3  CREB1+ctrl      K562\n",
       "CTATCCCTTGTGCA_p7d_G3  GABPA+ctrl      K562"
      ]
     },
     "execution_count": 4,
     "metadata": {},
     "output_type": "execute_result"
    }
   ],
   "source": [
    "adata.obs.head(2)"
   ]
  },
  {
   "cell_type": "markdown",
   "metadata": {},
   "source": [
    "### Suggested normalization\n",
    "\n",
    "For raw count data we recommend the following normalization and subsetting to the top 5000 most variable genes"
   ]
  },
  {
   "cell_type": "code",
   "execution_count": null,
   "metadata": {},
   "outputs": [],
   "source": [
    "sc.pp.normalize_total(adata)\n",
    "sc.pp.log1p(adata)\n",
    "sc.pp.highly_variable_genes(adata,n_top_genes=5000, subset=True)"
   ]
  },
  {
   "cell_type": "markdown",
   "metadata": {},
   "source": [
    "### Create dataloader\n",
    "\n",
    "GEARS will take it from here. The new data processing takes around 15 minutes for 5K genes and 100K cells. "
   ]
  },
  {
   "cell_type": "code",
   "execution_count": 5,
   "metadata": {},
   "outputs": [
    {
     "name": "stderr",
     "output_type": "stream",
     "text": [
      "Trying to set attribute `.obs` of view, copying.\n",
      "... storing 'dose_val' as categorical\n",
      "Trying to set attribute `.obs` of view, copying.\n",
      "... storing 'condition_name' as categorical\n",
      "... storing 'dose_val' as categorical\n",
      "... storing 'condition_name' as categorical\n",
      "Creating pyg object for each cell in the data...\n",
      "100%|█████████████████████████████████████████████████████████████████████████| 20/20 [00:51<00:00,  2.56s/it]\n",
      "Saving new dataset pyg object at ./data/dixit/data_pyg/cell_graphs.pkl\n",
      "Done!\n",
      "Local copy of pyg dataset is detected. Loading...\n",
      "Done!\n",
      "Creating new splits....\n",
      "Saving new splits at ./data/dixit/splits/dixit_simulation_1_0.75.pkl\n",
      "Simulation split test composition:\n",
      "combo_seen0:0\n",
      "combo_seen1:0\n",
      "combo_seen2:0\n",
      "unseen_single:5\n",
      "Done!\n",
      "Creating dataloaders....\n",
      "Done!\n"
     ]
    }
   ],
   "source": [
    "import sys\n",
    "sys.path.append('../')\n",
    "\n",
    "from gears import PertData\n",
    "\n",
    "pert_data = PertData('./data') # specific saved folder\n",
    "pert_data.new_data_process(dataset_name = 'dixit', adata = adata) # specific dataset name and adata object\n",
    "pert_data.load(data_path = './data/dixit') # load the processed data, the path is saved folder + dataset_name\n",
    "pert_data.prepare_split(split = 'simulation', seed = 1) # get data split with seed\n",
    "pert_data.get_dataloader(batch_size = 32, test_batch_size = 128) # prepare data loader"
   ]
  },
  {
   "cell_type": "code",
   "execution_count": null,
   "metadata": {},
   "outputs": [],
   "source": []
  }
 ],
 "metadata": {
  "kernelspec": {
   "display_name": "deepamp",
   "language": "python",
   "name": "deepamp"
  },
  "language_info": {
   "codemirror_mode": {
    "name": "ipython",
    "version": 3
   },
   "file_extension": ".py",
   "mimetype": "text/x-python",
   "name": "python",
   "nbconvert_exporter": "python",
   "pygments_lexer": "ipython3",
   "version": "3.8.10"
  }
 },
 "nbformat": 4,
 "nbformat_minor": 5
}
