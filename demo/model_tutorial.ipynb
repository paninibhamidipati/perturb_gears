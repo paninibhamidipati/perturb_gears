{
 "cells": [
  {
   "cell_type": "code",
   "execution_count": 1,
   "metadata": {},
   "outputs": [
    {
     "name": "stderr",
     "output_type": "stream",
     "text": [
      "/dfs/user/kexinh/miniconda3/envs/eee/lib/python3.8/site-packages/statsmodels/compat/pandas.py:61: FutureWarning: pandas.Int64Index is deprecated and will be removed from pandas in a future version. Use pandas.Index with the appropriate dtype instead.\n",
      "  from pandas import Int64Index as NumericIndex\n"
     ]
    }
   ],
   "source": [
    "import sys\n",
    "sys.path.append('../')\n",
    "\n",
    "from gears import PertData, GEARS"
   ]
  },
  {
   "cell_type": "markdown",
   "metadata": {},
   "source": [
    "Load data. We use norman as an example."
   ]
  },
  {
   "cell_type": "code",
   "execution_count": 2,
   "metadata": {},
   "outputs": [
    {
     "name": "stderr",
     "output_type": "stream",
     "text": [
      "Found local copy...\n",
      "Local copy of pyg dataset is detected. Loading...\n",
      "Done!\n",
      "Local copy of split is detected. Loading...\n",
      "Simulation split test composition:\n",
      "combo_seen0:9\n",
      "combo_seen1:52\n",
      "combo_seen2:18\n",
      "unseen_single:37\n",
      "Done!\n",
      "Creating dataloaders....\n",
      "Done!\n"
     ]
    }
   ],
   "source": [
    "pert_data = PertData('./data')\n",
    "pert_data.load(data_name = 'norman')\n",
    "pert_data.prepare_split(split = 'simulation', seed = 1)\n",
    "pert_data.get_dataloader(batch_size = 32, test_batch_size = 128)"
   ]
  },
  {
   "cell_type": "markdown",
   "metadata": {},
   "source": [
    "Create a model object; if you use [wandb](https://wandb.ai), you can easily track model training and evaluation by setting `weight_bias_track` to true, and specify the `proj_name` and `exp_name` that you like."
   ]
  },
  {
   "cell_type": "code",
   "execution_count": 3,
   "metadata": {},
   "outputs": [],
   "source": [
    "gears_model = GEARS(pert_data, device = 'cuda:7', \n",
    "                        weight_bias_track = False, \n",
    "                        proj_name = 'pertnet', \n",
    "                        exp_name = 'pertnet')\n",
    "gears_model.model_initialize(hidden_size = 64)"
   ]
  },
  {
   "cell_type": "markdown",
   "metadata": {},
   "source": [
    "You can find available tunable parameters in model_initialize via"
   ]
  },
  {
   "cell_type": "code",
   "execution_count": 4,
   "metadata": {},
   "outputs": [
    {
     "data": {
      "text/plain": [
       "{'hidden_size': 'hidden dimension, default 64',\n",
       " 'num_go_gnn_layers': 'number of GNN layers for GO graph, default 1',\n",
       " 'num_gene_gnn_layers': 'number of GNN layers for co-expression gene graph, default 1',\n",
       " 'decoder_hidden_size': 'hidden dimension for gene-specific decoder, default 16',\n",
       " 'num_similar_genes_go_graph': 'number of maximum similar K genes in the GO graph, default 20',\n",
       " 'num_similar_genes_co_express_graph': 'number of maximum similar K genes in the co expression graph, default 20',\n",
       " 'coexpress_threshold': 'pearson correlation threshold when constructing coexpression graph, default 0.4',\n",
       " 'uncertainty': 'whether or not to turn on uncertainty mode, default False',\n",
       " 'uncertainty_reg': 'regularization term to balance uncertainty loss and prediction loss, default 1',\n",
       " 'direction_lambda': 'regularization term to balance direction loss and prediction loss, default 1'}"
      ]
     },
     "execution_count": 4,
     "metadata": {},
     "output_type": "execute_result"
    }
   ],
   "source": [
    "gears_model.tunable_parameters()"
   ]
  },
  {
   "cell_type": "markdown",
   "metadata": {},
   "source": [
    "Train your model:\n",
    "\n",
    "Note: For the sake of demo, we set epoch size to 1. To get full model, set `epochs = 20`."
   ]
  },
  {
   "cell_type": "code",
   "execution_count": 5,
   "metadata": {
    "scrolled": true
   },
   "outputs": [
    {
     "name": "stderr",
     "output_type": "stream",
     "text": [
      "Start Training...\n",
      "Epoch 1 Step 1 Train Loss: 0.5698\n",
      "Epoch 1 Step 51 Train Loss: 0.4839\n",
      "Epoch 1 Step 101 Train Loss: 0.4901\n",
      "Epoch 1 Step 151 Train Loss: 0.4075\n",
      "Epoch 1 Step 201 Train Loss: 0.5746\n",
      "Epoch 1 Step 251 Train Loss: 0.4715\n",
      "Epoch 1 Step 301 Train Loss: 0.4592\n",
      "Epoch 1 Step 351 Train Loss: 0.4402\n",
      "Epoch 1 Step 401 Train Loss: 0.5056\n",
      "Epoch 1 Step 451 Train Loss: 0.4829\n",
      "Epoch 1 Step 501 Train Loss: 0.3779\n",
      "Epoch 1 Step 551 Train Loss: 0.5310\n",
      "Epoch 1 Step 601 Train Loss: 0.4236\n",
      "Epoch 1 Step 651 Train Loss: 0.3958\n",
      "Epoch 1 Step 701 Train Loss: 0.4064\n",
      "Epoch 1 Step 751 Train Loss: 0.4564\n",
      "Epoch 1 Step 801 Train Loss: 0.5437\n",
      "Epoch 1 Step 851 Train Loss: 0.4514\n",
      "Epoch 1 Step 901 Train Loss: 0.3983\n",
      "Epoch 1 Step 951 Train Loss: 0.3882\n",
      "Epoch 1 Step 1001 Train Loss: 0.4543\n",
      "Epoch 1 Step 1051 Train Loss: 0.4775\n",
      "Epoch 1 Step 1101 Train Loss: 0.4316\n",
      "Epoch 1 Step 1151 Train Loss: 0.4562\n",
      "Epoch 1 Step 1201 Train Loss: 0.4734\n",
      "Epoch 1 Step 1251 Train Loss: 0.4545\n",
      "Epoch 1 Step 1301 Train Loss: 0.5209\n",
      "Epoch 1 Step 1351 Train Loss: 0.4603\n",
      "Epoch 1 Step 1401 Train Loss: 0.4277\n",
      "Epoch 1 Step 1451 Train Loss: 0.5338\n",
      "Epoch 1 Step 1501 Train Loss: 0.4677\n",
      "Epoch 1 Step 1551 Train Loss: 0.5447\n",
      "Epoch 1 Step 1601 Train Loss: 0.4739\n",
      "Epoch 1: Train Overall MSE: 0.0061 Validation Overall MSE: 0.0069. \n",
      "Train Top 20 DE MSE: 0.1758 Validation Top 20 DE MSE: 0.2167. \n",
      "Done!\n",
      "Start Testing...\n",
      "Best performing model: Test Top 20 DE MSE: 0.2540\n",
      "Start doing subgroup analysis for simulation split...\n",
      "test_combo_seen0_mse: 0.008835521\n",
      "test_combo_seen0_pearson: 0.97467689912096\n",
      "test_combo_seen0_mse_de: 0.23602708\n",
      "test_combo_seen0_pearson_de: 0.8291576005698412\n",
      "test_combo_seen1_mse: 0.011588639\n",
      "test_combo_seen1_pearson: 0.9693566612929557\n",
      "test_combo_seen1_mse_de: 0.283049\n",
      "test_combo_seen1_pearson_de: 0.824893174623376\n",
      "test_combo_seen2_mse: 0.008265204\n",
      "test_combo_seen2_pearson: 0.9767816770874406\n",
      "test_combo_seen2_mse_de: 0.23843616\n",
      "test_combo_seen2_pearson_de: 0.9310945429439097\n",
      "test_unseen_single_mse: 0.005175899\n",
      "test_unseen_single_pearson: 0.9848590164640408\n",
      "test_unseen_single_mse_de: 0.22512747\n",
      "test_unseen_single_pearson_de: 0.8633892815507775\n",
      "test_combo_seen0_pearson_delta: 0.47928598136890105\n",
      "test_combo_seen0_frac_opposite_direction_top20_non_dropout: 0.1388888888888889\n",
      "test_combo_seen0_frac_sigma_below_1_non_dropout: 0.8333333333333333\n",
      "test_combo_seen0_mse_top20_de_non_dropout: 0.28635967\n",
      "test_combo_seen1_pearson_delta: 0.46109917867026595\n",
      "test_combo_seen1_frac_opposite_direction_top20_non_dropout: 0.16346153846153846\n",
      "test_combo_seen1_frac_sigma_below_1_non_dropout: 0.7605769230769232\n",
      "test_combo_seen1_mse_top20_de_non_dropout: 0.33671263\n",
      "test_combo_seen2_pearson_delta: 0.4869598740235377\n",
      "test_combo_seen2_frac_opposite_direction_top20_non_dropout: 0.10555555555555557\n",
      "test_combo_seen2_frac_sigma_below_1_non_dropout: 0.875\n",
      "test_combo_seen2_mse_top20_de_non_dropout: 0.24442989\n",
      "test_unseen_single_pearson_delta: 0.24608358110563455\n",
      "test_unseen_single_frac_opposite_direction_top20_non_dropout: 0.32837837837837835\n",
      "test_unseen_single_frac_sigma_below_1_non_dropout: 0.7959459459459457\n",
      "test_unseen_single_mse_top20_de_non_dropout: 0.25129005\n",
      "Done!\n"
     ]
    }
   ],
   "source": [
    "gears_model.train(epochs = 1, lr = 1e-3)"
   ]
  },
  {
   "cell_type": "markdown",
   "metadata": {},
   "source": [
    "Save and load pretrained models:"
   ]
  },
  {
   "cell_type": "code",
   "execution_count": 6,
   "metadata": {},
   "outputs": [],
   "source": [
    "gears_model.save_model('test_model')\n",
    "gears_model.load_pretrained('test_model')"
   ]
  },
  {
   "cell_type": "markdown",
   "metadata": {},
   "source": [
    "Make prediction for new perturbation:"
   ]
  },
  {
   "cell_type": "code",
   "execution_count": 7,
   "metadata": {},
   "outputs": [
    {
     "data": {
      "text/plain": [
       "{'FEV': array([-1.5115363e-06,  4.4304952e-02,  1.0309354e-01, ...,\n",
       "         3.3967001e+00,  7.8529231e-03,  1.0920237e-31], dtype=float32),\n",
       " 'FEV_SAMD11': array([-2.2916190e-06,  9.7577907e-02,  1.6493453e-01, ...,\n",
       "         3.2082996e+00,  7.6769367e-03,  1.7619579e-31], dtype=float32)}"
      ]
     },
     "execution_count": 7,
     "metadata": {},
     "output_type": "execute_result"
    }
   ],
   "source": [
    "gears_model.predict([['FEV'], ['FEV', 'AHR']])"
   ]
  },
  {
   "cell_type": "markdown",
   "metadata": {},
   "source": [
    "Gene list can be found here:"
   ]
  },
  {
   "cell_type": "code",
   "execution_count": 8,
   "metadata": {},
   "outputs": [
    {
     "data": {
      "text/plain": [
       "['RP11-34P13.8', 'RP11-54O7.3', 'SAMD11', 'PERM1', 'HES4']"
      ]
     },
     "execution_count": 8,
     "metadata": {},
     "output_type": "execute_result"
    }
   ],
   "source": [
    "gears_model.gene_list[:5]"
   ]
  }
 ],
 "metadata": {
  "kernelspec": {
   "display_name": "Python 3",
   "language": "python",
   "name": "python3"
  },
  "language_info": {
   "codemirror_mode": {
    "name": "ipython",
    "version": 3
   },
   "file_extension": ".py",
   "mimetype": "text/x-python",
   "name": "python",
   "nbconvert_exporter": "python",
   "pygments_lexer": "ipython3",
   "version": "3.8.10"
  }
 },
 "nbformat": 4,
 "nbformat_minor": 5
}
